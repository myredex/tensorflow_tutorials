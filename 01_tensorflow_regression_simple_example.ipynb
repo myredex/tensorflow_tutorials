{
  "nbformat": 4,
  "nbformat_minor": 0,
  "metadata": {
    "colab": {
      "provenance": [],
      "authorship_tag": "ABX9TyNYVzfyylxX6lKv+41gnHGY",
      "include_colab_link": true
    },
    "kernelspec": {
      "name": "python3",
      "display_name": "Python 3"
    },
    "language_info": {
      "name": "python"
    }
  },
  "cells": [
    {
      "cell_type": "markdown",
      "metadata": {
        "id": "view-in-github",
        "colab_type": "text"
      },
      "source": [
        "<a href=\"https://colab.research.google.com/github/myredex/tensorflow_tutorials/blob/master/01_tensorflow_regression_simple_example.ipynb\" target=\"_parent\"><img src=\"https://colab.research.google.com/assets/colab-badge.svg\" alt=\"Open In Colab\"/></a>"
      ]
    },
    {
      "cell_type": "markdown",
      "source": [
        "# Linear regression with Tensorflow"
      ],
      "metadata": {
        "id": "_6sbyWB1_Lsr"
      }
    },
    {
      "cell_type": "code",
      "execution_count": null,
      "metadata": {
        "id": "o7fpbjEq-_QU"
      },
      "outputs": [],
      "source": [
        "# Import libraries\n",
        "import tensorflow as tf\n",
        "import matplotlib.pyplot as plt"
      ]
    },
    {
      "cell_type": "code",
      "source": [
        "# Generate data\n",
        "X = tf.constant(range(-10, 100, 2))\n",
        "y = 4 + X * 3\n",
        "\n",
        "X, y"
      ],
      "metadata": {
        "id": "wE3NDFid_HQb"
      },
      "execution_count": null,
      "outputs": []
    },
    {
      "cell_type": "code",
      "source": [
        "plt.scatter(X, y)"
      ],
      "metadata": {
        "id": "0gRB9j6I_f-l"
      },
      "execution_count": null,
      "outputs": []
    },
    {
      "cell_type": "code",
      "source": [
        "# Split data to train and test sets\n",
        "X_train = X[:45]\n",
        "X_test = X[45:]\n",
        "y_train = y[:45]\n",
        "y_test= y[45:]\n",
        "\n",
        "len(X_train), len(X_test), len(y_train), len(y_test), X_train, X_test"
      ],
      "metadata": {
        "id": "-t2OJwk7AQSy"
      },
      "execution_count": null,
      "outputs": []
    },
    {
      "cell_type": "code",
      "source": [
        "# Plot training and test sets\n",
        "plt.scatter(X_train, y_train, color=\"blue\")\n",
        "plt.scatter(X_test, y_test, color=\"red\")\n",
        "plt.show()"
      ],
      "metadata": {
        "id": "MapYhPseAuMU"
      },
      "execution_count": null,
      "outputs": []
    },
    {
      "cell_type": "code",
      "source": [
        "# Build the model\n",
        "model = tf.keras.Sequential([\n",
        "    tf.keras.layers.Dense(50),\n",
        "    tf.keras.layers.Dense(1)\n",
        "])\n",
        "\n",
        "# Compile the model\n",
        "model.compile(loss=tf.keras.losses.mae,\n",
        "              optimizer=tf.keras.optimizers.Adam(learning_rate=0.01),\n",
        "              metrics=[\"mae\"])\n",
        "\n",
        "history = model.fit(tf.expand_dims(X_train, axis=1), y_train, epochs=50)"
      ],
      "metadata": {
        "id": "X_63EoEoAySh"
      },
      "execution_count": null,
      "outputs": []
    },
    {
      "cell_type": "code",
      "source": [
        "model.summary()"
      ],
      "metadata": {
        "id": "u9zCZgRoMM3t"
      },
      "execution_count": null,
      "outputs": []
    },
    {
      "cell_type": "code",
      "source": [
        "y_pred = model.predict(X_test)\n",
        "\n",
        "plt.scatter(X_train, y_train, color=\"blue\")\n",
        "plt.scatter(X_test, y_test, color=\"red\")\n",
        "plt.scatter(X_test, y_pred, color=\"green\")\n",
        "\n",
        "model.evaluate(X_test, y_test)"
      ],
      "metadata": {
        "id": "6Hyc4agqFLo_"
      },
      "execution_count": null,
      "outputs": []
    },
    {
      "cell_type": "code",
      "source": [
        "import pandas as pd\n",
        "\n",
        "pd.DataFrame(history.history).plot()"
      ],
      "metadata": {
        "id": "yQwCq7CwIInm"
      },
      "execution_count": null,
      "outputs": []
    },
    {
      "cell_type": "code",
      "source": [],
      "metadata": {
        "id": "ztW3Gj9WNyHo"
      },
      "execution_count": null,
      "outputs": []
    }
  ]
}