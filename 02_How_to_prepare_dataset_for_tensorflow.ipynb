{
  "nbformat": 4,
  "nbformat_minor": 0,
  "metadata": {
    "colab": {
      "provenance": [],
      "authorship_tag": "ABX9TyMEcK8BUOWF2CPBhkeMhgOd",
      "include_colab_link": true
    },
    "kernelspec": {
      "name": "python3",
      "display_name": "Python 3"
    },
    "language_info": {
      "name": "python"
    }
  },
  "cells": [
    {
      "cell_type": "markdown",
      "metadata": {
        "id": "view-in-github",
        "colab_type": "text"
      },
      "source": [
        "<a href=\"https://colab.research.google.com/github/myredex/tensorflow_tutorials/blob/master/02_How_to_prepare_dataset_for_tensorflow.ipynb\" target=\"_parent\"><img src=\"https://colab.research.google.com/assets/colab-badge.svg\" alt=\"Open In Colab\"/></a>"
      ]
    },
    {
      "cell_type": "code",
      "source": [
        "# Download sample data and unzip it\n",
        "!gdown \"14ffqV1P6xgVo9WhjqF3TSc7zTyJmSpxu\"\n",
        "\n",
        "# Unzip data\n",
        "import zipfile\n",
        "import tensorflow as tf\n",
        "\n",
        "zip_ref = zipfile.ZipFile(\"image_sample.zip\")\n",
        "zip_ref.extractall()\n",
        "zip_ref.close()"
      ],
      "metadata": {
        "colab": {
          "base_uri": "https://localhost:8080/"
        },
        "id": "YP8_dCbyslrQ",
        "outputId": "0fd38061-ecd1-4dab-c3b5-04ca177a3162"
      },
      "execution_count": 1,
      "outputs": [
        {
          "output_type": "stream",
          "name": "stdout",
          "text": [
            "Downloading...\n",
            "From: https://drive.google.com/uc?id=14ffqV1P6xgVo9WhjqF3TSc7zTyJmSpxu\n",
            "To: /content/image_sample.zip\n",
            "\r  0% 0.00/9.42M [00:00<?, ?B/s]\r100% 9.42M/9.42M [00:00<00:00, 183MB/s]\n"
          ]
        }
      ]
    },
    {
      "cell_type": "markdown",
      "source": [
        "## Prepare dataset from directory using ImageDataGenerator"
      ],
      "metadata": {
        "id": "_q9n9C3xniOB"
      }
    },
    {
      "cell_type": "code",
      "source": [
        "# You need directory for example \"train\" with subfolders \"category_1\", \"category_2\" etc. in it\n",
        "# In each subfolder images belonging to this category\n",
        "# ImageDataGenerator able to preprocess images and perform data augmentation\n",
        "\n",
        "# Step 1 Create data generator instance\n",
        "datagen = tf.keras.preprocessing.image.ImageDataGenerator(rescale=1./255,\n",
        "                                                                       zoom_range=0.2,\n",
        "                                                                       rotation_range=0.2)\n",
        "\n",
        "# Step 2 Generate dataframe\n",
        "train_data = datagen.flow_from_directory(directory=\"/content/images\",\n",
        "                                         target_size=(100, 100),\n",
        "                                         class_mode=\"categorical\",\n",
        "                                         batch_size=32\n",
        "                                         )\n",
        "\n",
        "train_data"
      ],
      "metadata": {
        "colab": {
          "base_uri": "https://localhost:8080/"
        },
        "id": "5yoAVUFjvcmC",
        "outputId": "473be4d8-8b58-4add-995e-8eb7372bab91"
      },
      "execution_count": 2,
      "outputs": [
        {
          "output_type": "stream",
          "name": "stdout",
          "text": [
            "Found 6 images belonging to 3 classes.\n"
          ]
        },
        {
          "output_type": "execute_result",
          "data": {
            "text/plain": [
              "<keras.src.preprocessing.image.DirectoryIterator at 0x7889adb1be80>"
            ]
          },
          "metadata": {},
          "execution_count": 2
        }
      ]
    },
    {
      "cell_type": "markdown",
      "source": [
        "## Prepare dataset from directory using image_dataset_from_directory"
      ],
      "metadata": {
        "id": "OTK9uvmTlYM5"
      }
    },
    {
      "cell_type": "code",
      "source": [
        "from tensorflow.python.ops.gen_dataset_ops import batch_dataset\n",
        "# You need directory for example \"train\" with subfolders \"category_1\", \"category_2\" etc. in it\n",
        "# In each subfolder images belonging to this category\n",
        "# image_dataset_from_directory has less options to preprocess images and perform data augmentation\n",
        "\n",
        "train_data_2 = tf.keras.preprocessing.image_dataset_from_directory(directory=\"/content/images\",\n",
        "                                                                   label_mode=\"categorical\",\n",
        "                                                                   batch_size=32,\n",
        "                                                                   image_size=(100, 100))\n",
        "\n",
        "train_data_2"
      ],
      "metadata": {
        "colab": {
          "base_uri": "https://localhost:8080/"
        },
        "id": "7XPbIHHUzKKy",
        "outputId": "5c50177f-c9ce-4e20-91c7-f9d0d0efd47c"
      },
      "execution_count": 3,
      "outputs": [
        {
          "output_type": "stream",
          "name": "stdout",
          "text": [
            "Found 6 files belonging to 3 classes.\n"
          ]
        },
        {
          "output_type": "execute_result",
          "data": {
            "text/plain": [
              "<_BatchDataset element_spec=(TensorSpec(shape=(None, 100, 100, 3), dtype=tf.float32, name=None), TensorSpec(shape=(None, 3), dtype=tf.float32, name=None))>"
            ]
          },
          "metadata": {},
          "execution_count": 3
        }
      ]
    },
    {
      "cell_type": "markdown",
      "source": [
        "## Prepare dataset from list of images and list of labels"
      ],
      "metadata": {
        "id": "AV8GQLLUlYJ3"
      }
    },
    {
      "cell_type": "code",
      "execution_count": 4,
      "metadata": {
        "colab": {
          "base_uri": "https://localhost:8080/"
        },
        "id": "xR9rNNPilOLP",
        "outputId": "b76f4745-3437-4a87-c3be-aed62622c253"
      },
      "outputs": [
        {
          "output_type": "execute_result",
          "data": {
            "text/plain": [
              "['/content/all_images_in_one_folder/cherry1.jpeg',\n",
              " '/content/all_images_in_one_folder/apple1.jpg',\n",
              " '/content/all_images_in_one_folder/banana2.jpg',\n",
              " '/content/all_images_in_one_folder/apple2.jpg',\n",
              " '/content/all_images_in_one_folder/cherry2.jpg',\n",
              " '/content/all_images_in_one_folder/banana1.png']"
            ]
          },
          "metadata": {},
          "execution_count": 4
        }
      ],
      "source": [
        "# If you have no sorted images but have list of image's paths and list of labels\n",
        "import os\n",
        "# Create empty list\n",
        "images_paths=[]\n",
        "# Walk throught directory and collect all image's paths\n",
        "for file in os.listdir(\"/content/all_images_in_one_folder\"):\n",
        "  images_paths.append(\"/content/all_images_in_one_folder\" + \"/\" + file)\n",
        "images_paths"
      ]
    },
    {
      "cell_type": "code",
      "source": [
        "# Now create list of labels\n",
        "# The order of labels might NOT match list of paths in your notebook\n",
        "text_labels_list = [\"apple\", \"cherry\", \"apple\", \"cherry\", \"banana\", \"banana\"]\n",
        "\n",
        "one_hot_labels_list = [[1, 0, 0], [0, 1, 0], [1, 0, 0], [0, 1, 0], [0, 0, 1], [0, 0, 1]]"
      ],
      "metadata": {
        "id": "QohQeuuy1KgQ"
      },
      "execution_count": 5,
      "outputs": []
    },
    {
      "cell_type": "code",
      "source": [
        "# When you have List of image's paths and list of labels you can create tensorflow dataframe\n",
        "\n",
        "# Step 1 Create preprocessing function\n",
        "def image_preprocessing(image, label, img_shape=100):\n",
        "\n",
        "  img = tf.io.read_file(image) # Read file\n",
        "  img = tf.io.decode_image(img, channels=3, expand_animations = False) # Decode file\n",
        "\n",
        "  img = tf.image.resize(img, [img_shape, img_shape]) # Resize it\n",
        "  return tf.cast(img, tf.float32), label # Return image in Float32 datatype"
      ],
      "metadata": {
        "id": "L3tGJmBO5DWG"
      },
      "execution_count": 6,
      "outputs": []
    },
    {
      "cell_type": "code",
      "source": [
        "# Step 2 Create dataset\n",
        "dataset = tf.data.Dataset.from_tensor_slices((images_paths, text_labels_list))\n",
        "dataset = dataset.map(image_preprocessing, num_parallel_calls=tf.data.AUTOTUNE)\n",
        "dataset.shuffle(buffer_size=1000).batch(batch_size=32).prefetch(buffer_size=tf.data.AUTOTUNE)\n",
        "\n",
        "dataset"
      ],
      "metadata": {
        "colab": {
          "base_uri": "https://localhost:8080/"
        },
        "id": "cB2TFQOk3soY",
        "outputId": "9f447da2-2f98-410d-8e19-a13bf794d3af"
      },
      "execution_count": 7,
      "outputs": [
        {
          "output_type": "execute_result",
          "data": {
            "text/plain": [
              "<_ParallelMapDataset element_spec=(TensorSpec(shape=(100, 100, 3), dtype=tf.float32, name=None), TensorSpec(shape=(), dtype=tf.string, name=None))>"
            ]
          },
          "metadata": {},
          "execution_count": 7
        }
      ]
    },
    {
      "cell_type": "code",
      "source": [],
      "metadata": {
        "id": "Z_Q7-usZRIhg"
      },
      "execution_count": null,
      "outputs": []
    }
  ]
}